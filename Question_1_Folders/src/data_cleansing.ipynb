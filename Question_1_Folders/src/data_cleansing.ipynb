{
 "cells": [
  {
   "cell_type": "code",
   "execution_count": 2,
   "id": "7f6e9ed0",
   "metadata": {},
   "outputs": [],
   "source": []
  },
  {
   "cell_type": "code",
   "execution_count": 7,
   "id": "ecf5e95b",
   "metadata": {},
   "outputs": [
    {
     "name": "stdout",
     "output_type": "stream",
     "text": [
      "Cleaned DataFrame:\n",
      "   Height  Weight  Age  Grip_Strength Frailty\n",
      "0    65.8     112   30             30       N\n",
      "1    71.5     136   19             31       N\n",
      "2    69.4     153   45             29       N\n",
      "3    68.2     142   22             28       Y\n",
      "4    67.8     144   29             24       Y\n",
      "5    68.7     123   50             26       N\n",
      "6    69.8     141   51             22       Y\n",
      "7    70.1     136   23             20       Y\n",
      "8    67.9     112   17             19       N\n",
      "9    66.8     120   39             31       N\n"
     ]
    }
   ],
   "source": [
    "\n",
    "import pandas as pd\n",
    "import os\n",
    "#reading the data from csv\n",
    "df = pd.read_csv(r\"C:\\Users\\User\\Downloads\\FALL_SEM\\PDS\\Question_1_Folders\\data_raw\\raw_frailty_data.csv\")\n",
    "# Clean leading and trailing spaces and check for nulls\n",
    "df = df.apply(lambda x: x.str.strip() if x.dtype == \"object\" else x)  # Strip leading/trailing spaces\n",
    "null_counts = df.isnull().sum()\n",
    "# Rename columns\n",
    "df.columns = ['Height', 'Weight', 'Age', 'Grip_Strength', 'Frailty']\n",
    "# Print the cleaned DataFrame\n",
    "print(\"Cleaned DataFrame:\")\n",
    "print(df)\n",
    "# Export DataFrame to a CSV file\n",
    "df.to_csv('cleaned_data.csv')\n"
   ]
  },
  {
   "cell_type": "code",
   "execution_count": null,
   "id": "a9f451cb",
   "metadata": {},
   "outputs": [],
   "source": []
  },
  {
   "cell_type": "code",
   "execution_count": null,
   "id": "dde763c6",
   "metadata": {},
   "outputs": [],
   "source": []
  }
 ],
 "metadata": {
  "kernelspec": {
   "display_name": "Python 3 (ipykernel)",
   "language": "python",
   "name": "python3"
  },
  "language_info": {
   "codemirror_mode": {
    "name": "ipython",
    "version": 3
   },
   "file_extension": ".py",
   "mimetype": "text/x-python",
   "name": "python",
   "nbconvert_exporter": "python",
   "pygments_lexer": "ipython3",
   "version": "3.11.4"
  }
 },
 "nbformat": 4,
 "nbformat_minor": 5
}
